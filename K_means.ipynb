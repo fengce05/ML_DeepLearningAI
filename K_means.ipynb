{
 "cells": [
  {
   "cell_type": "code",
   "execution_count": 2,
   "id": "f1600c7a",
   "metadata": {},
   "outputs": [],
   "source": [
    "import numpy as np\n",
    "import matplotlib.pyplot as plt\n"
   ]
  },
  {
   "cell_type": "code",
   "execution_count": 3,
   "id": "0497aafa",
   "metadata": {},
   "outputs": [],
   "source": [
    "def find_closest_centroids(X,centroids):\n",
    "    K=centroids.shape[0]\n",
    "    idx=np.zeros(X.shape[0],dtype=int)\n",
    "    for i in range(len(idx)):\n",
    "        distance=np.zeros(K)\n",
    "        for j in range(K):\n",
    "            distance[j]=np.sum(np.square(X[i]-centroids[j]))\n",
    "        idx[i]=np.argmin(distance)\n",
    "    return idx   \n"
   ]
  },
  {
   "cell_type": "code",
   "execution_count": null,
   "id": "5341f37d",
   "metadata": {},
   "outputs": [],
   "source": [
    "def compute_centroids(X,idx,K):\n",
    "    m,n=X.shape\n",
    "    centroids=np.zeros((K,n))\n",
    "    for i in range(K):\n",
    "        point_idx=np.where(idx=i)"
   ]
  }
 ],
 "metadata": {
  "kernelspec": {
   "display_name": "Python 3",
   "language": "python",
   "name": "python3"
  },
  "language_info": {
   "codemirror_mode": {
    "name": "ipython",
    "version": 3
   },
   "file_extension": ".py",
   "mimetype": "text/x-python",
   "name": "python",
   "nbconvert_exporter": "python",
   "pygments_lexer": "ipython3",
   "version": "3.9.6"
  }
 },
 "nbformat": 4,
 "nbformat_minor": 5
}
